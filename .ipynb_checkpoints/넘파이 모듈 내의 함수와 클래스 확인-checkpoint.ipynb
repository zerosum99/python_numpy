{
 "cells": [
  {
   "cell_type": "code",
   "execution_count": 1,
   "metadata": {},
   "outputs": [],
   "source": [
    "import numpy as np"
   ]
  },
  {
   "cell_type": "code",
   "execution_count": 2,
   "metadata": {},
   "outputs": [
    {
     "data": {
      "text/plain": [
       "'1.15.4'"
      ]
     },
     "execution_count": 2,
     "metadata": {},
     "output_type": "execute_result"
    }
   ],
   "source": [
    "np.__version__"
   ]
  },
  {
   "cell_type": "markdown",
   "metadata": {},
   "source": [
    "## 유니버셜 함수 만 추출"
   ]
  },
  {
   "cell_type": "code",
   "execution_count": 21,
   "metadata": {},
   "outputs": [
    {
     "name": "stdout",
     "output_type": "stream",
     "text": [
      "abs, absolute, add, arccos, \n",
      "arccosh, arcsin, arcsinh, arctan, arctan2, \n",
      "arctanh, bitwise_and, bitwise_not, bitwise_or, bitwise_xor, \n",
      "cbrt, ceil, conj, conjugate, copysign, \n",
      "cos, cosh, deg2rad, degrees, divide, \n",
      "divmod, equal, erf, exp, exp2, \n",
      "expm1, fabs, float_power, floor, floor_divide, \n",
      "fmax, fmin, fmod, frexp, gcd, \n",
      "greater, greater_equal, heaviside, hypot, invert, \n",
      "isfinite, isinf, isnan, isnat, lcm, \n",
      "ldexp, left_shift, less, less_equal, log, \n",
      "log10, log1p, log2, logaddexp, logaddexp2, \n",
      "logical_and, logical_not, logical_or, logical_xor, maximum, \n",
      "minimum, mod, modf, multiply, negative, \n",
      "nextafter, not_equal, positive, power, rad2deg, \n",
      "radians, reciprocal, remainder, right_shift, rint, \n",
      "sign, signbit, sin, sinh, spacing, \n",
      "sqrt, square, subtract, tan, tanh, \n",
      "true_divide, trunc, "
     ]
    }
   ],
   "source": [
    "count = 0 \n",
    "for i in dir(np) :\n",
    "    if not i.startswith(\"_\") :\n",
    "        \n",
    "        if type(np.__dict__[i]) ==  np.ufunc :\n",
    "            count += 1\n",
    "            if count % 5 == 0 :\n",
    "                print()\n",
    "        \n",
    "            print(i,end=\", \")"
   ]
  },
  {
   "cell_type": "code",
   "execution_count": 7,
   "metadata": {},
   "outputs": [],
   "source": [
    "import types"
   ]
  },
  {
   "cell_type": "code",
   "execution_count": 8,
   "metadata": {},
   "outputs": [
    {
     "data": {
      "text/plain": [
       "['AsyncGeneratorType',\n",
       " 'BuiltinFunctionType',\n",
       " 'BuiltinMethodType',\n",
       " 'CodeType',\n",
       " 'CoroutineType',\n",
       " 'DynamicClassAttribute',\n",
       " 'FrameType',\n",
       " 'FunctionType',\n",
       " 'GeneratorType',\n",
       " 'GetSetDescriptorType',\n",
       " 'LambdaType',\n",
       " 'MappingProxyType',\n",
       " 'MemberDescriptorType',\n",
       " 'MethodType',\n",
       " 'ModuleType',\n",
       " 'SimpleNamespace',\n",
       " 'TracebackType',\n",
       " '_GeneratorWrapper',\n",
       " '__all__',\n",
       " '__builtins__',\n",
       " '__cached__',\n",
       " '__doc__',\n",
       " '__file__',\n",
       " '__loader__',\n",
       " '__name__',\n",
       " '__package__',\n",
       " '__spec__',\n",
       " '_ag',\n",
       " '_calculate_meta',\n",
       " '_collections_abc',\n",
       " '_functools',\n",
       " 'coroutine',\n",
       " 'new_class',\n",
       " 'prepare_class']"
      ]
     },
     "execution_count": 8,
     "metadata": {},
     "output_type": "execute_result"
    }
   ],
   "source": [
    "dir(types)"
   ]
  },
  {
   "cell_type": "markdown",
   "metadata": {},
   "source": [
    "## 함수만 확인"
   ]
  },
  {
   "cell_type": "code",
   "execution_count": 11,
   "metadata": {},
   "outputs": [
    {
     "name": "stdout",
     "output_type": "stream",
     "text": [
      "add_newdoc, alen, all, allclose, \n",
      "alltrue, amax, amin, angle, any, \n",
      "append, apply_along_axis, apply_over_axes, argmax, argmin, \n",
      "argpartition, argsort, argwhere, around, array2string, \n",
      "array_equal, array_equiv, array_repr, array_split, array_str, \n",
      "asanyarray, asarray, asarray_chkfinite, ascontiguousarray, asfarray, \n",
      "asfortranarray, asmatrix, asscalar, atleast_1d, atleast_2d, \n",
      "atleast_3d, average, bartlett, base_repr, binary_repr, \n",
      "blackman, block, bmat, broadcast_arrays, broadcast_to, \n",
      "byte_bounds, choose, clip, column_stack, common_type, \n",
      "compress, convolve, copy, corrcoef, correlate, \n",
      "count_nonzero, cov, cross, cumprod, cumproduct, \n",
      "cumsum, delete, deprecate, deprecate_with_doc, diag, \n",
      "diag_indices, diag_indices_from, diagflat, diagonal, diff, \n",
      "disp, dsplit, dstack, ediff1d, einsum, \n",
      "einsum_path, expand_dims, extract, eye, fill_diagonal, \n",
      "find_common_type, fix, flatnonzero, flip, fliplr, \n",
      "flipud, format_float_positional, format_float_scientific, fromfunction, fromregex, \n",
      "full, full_like, fv, genfromtxt, geomspace, \n",
      "get_array_wrap, get_include, get_printoptions, getbufsize, geterr, \n",
      "geterrcall, gradient, hamming, hanning, histogram, \n",
      "histogram2d, histogram_bin_edges, histogramdd, hsplit, hstack, \n",
      "i0, identity, imag, in1d, indices, \n",
      "info, insert, interp, intersect1d, ipmt, \n",
      "irr, isclose, iscomplex, iscomplexobj, isfortran, \n",
      "isin, isneginf, isposinf, isreal, isrealobj, \n",
      "isscalar, issctype, issubclass_, issubdtype, issubsctype, \n",
      "iterable, ix_, kaiser, kron, linspace, \n",
      "load, loads, loadtxt, logspace, lookfor, \n",
      "mafromtxt, mask_indices, mat, max, maximum_sctype, \n",
      "mean, median, meshgrid, min, mintypecode, \n",
      "mirr, moveaxis, msort, nan_to_num, nanargmax, \n",
      "nanargmin, nancumprod, nancumsum, nanmax, nanmean, \n",
      "nanmedian, nanmin, nanpercentile, nanprod, nanquantile, \n",
      "nanstd, nansum, nanvar, ndfromtxt, ndim, \n",
      "nonzero, nper, npv, obj2sctype, ones, \n",
      "ones_like, outer, pad, partition, percentile, \n",
      "piecewise, pkgload, place, pmt, poly, \n",
      "polyadd, polyder, polydiv, polyfit, polyint, \n",
      "polymul, polysub, polyval, ppmt, printoptions, \n",
      "prod, product, ptp, put, put_along_axis, \n",
      "pv, quantile, rank, rate, ravel, \n",
      "real, real_if_close, recfromcsv, recfromtxt, repeat, \n",
      "require, reshape, resize, roll, rollaxis, \n",
      "roots, rot90, round, round_, row_stack, \n",
      "safe_eval, save, savetxt, savez, savez_compressed, \n",
      "sctype2char, searchsorted, select, set_printoptions, set_string_function, \n",
      "setbufsize, setdiff1d, seterr, seterrcall, setxor1d, \n",
      "shape, show_config, sinc, size, sometrue, \n",
      "sort, sort_complex, source, split, squeeze, \n",
      "stack, std, sum, swapaxes, take, \n",
      "take_along_axis, tensordot, tile, trace, transpose, \n",
      "trapz, tri, tril, tril_indices, tril_indices_from, \n",
      "trim_zeros, triu, triu_indices, triu_indices_from, typename, \n",
      "union1d, unique, unwrap, vander, var, \n",
      "vsplit, vstack, who, zeros_like, "
     ]
    }
   ],
   "source": [
    "count = 0 \n",
    "for i in dir(np) :\n",
    "    if not i.startswith(\"_\") :\n",
    "        \n",
    "        if type(np.__dict__[i]) == types.FunctionType :\n",
    "            \n",
    "            count += 1\n",
    "            if count % 5 == 0 :\n",
    "                print()\n",
    "        \n",
    "            print(i,end=\", \")"
   ]
  },
  {
   "cell_type": "markdown",
   "metadata": {},
   "source": [
    "## 내장 메소드 확인"
   ]
  },
  {
   "cell_type": "code",
   "execution_count": 25,
   "metadata": {},
   "outputs": [
    {
     "name": "stdout",
     "output_type": "stream",
     "text": [
      "add_docstring, add_newdoc_ufunc, arange, array, \n",
      "bincount, busday_count, busday_offset, can_cast, compare_chararrays, \n",
      "concatenate, copyto, datetime_as_string, datetime_data, digitize, \n",
      "dot, empty, empty_like, fastCopyAndTranspose, frombuffer, \n",
      "fromfile, fromiter, frompyfunc, fromstring, geterrobj, \n",
      "inner, int_asbuffer, is_busday, lexsort, matmul, \n",
      "may_share_memory, min_scalar_type, nested_iters, packbits, promote_types, \n",
      "putmask, ravel_multi_index, result_type, set_numeric_ops, seterrobj, \n",
      "shares_memory, unpackbits, unravel_index, vdot, where, \n",
      "zeros, "
     ]
    }
   ],
   "source": [
    "count = 0 \n",
    "for i in dir(np) :\n",
    "    if not i.startswith(\"_\") :\n",
    "        \n",
    "        if type(np.__dict__[i]) == type(np.dot) :\n",
    "            \n",
    "            count += 1\n",
    "            if count % 5 == 0 :\n",
    "                print()\n",
    "        \n",
    "            print(i,end=\", \")"
   ]
  },
  {
   "cell_type": "markdown",
   "metadata": {},
   "source": [
    "## 클래스만 확인"
   ]
  },
  {
   "cell_type": "code",
   "execution_count": 27,
   "metadata": {},
   "outputs": [
    {
     "name": "stdout",
     "output_type": "stream",
     "text": [
      "ALLOW_THREADS, AxisError, BUFSIZE, CLIP, \n",
      "ComplexWarning, DataSource, ERR_CALL, ERR_DEFAULT, ERR_IGNORE, \n",
      "ERR_LOG, ERR_PRINT, ERR_RAISE, ERR_WARN, FLOATING_POINT_SUPPORT, \n",
      "FPE_DIVIDEBYZERO, FPE_INVALID, FPE_OVERFLOW, FPE_UNDERFLOW, False_, \n",
      "Inf, Infinity, MAXDIMS, MAY_SHARE_BOUNDS, MAY_SHARE_EXACT, \n",
      "MachAr, ModuleDeprecationWarning, NAN, NINF, NZERO, \n",
      "NaN, PINF, PZERO, PackageLoader, RAISE, \n",
      "RankWarning, SHIFT_DIVIDEBYZERO, SHIFT_INVALID, SHIFT_OVERFLOW, SHIFT_UNDERFLOW, \n",
      "ScalarType, Tester, TooHardError, True_, UFUNC_BUFSIZE_DEFAULT, \n",
      "UFUNC_PYVALS_NAME, VisibleDeprecationWarning, WRAP, absolute_import, add_newdocs, \n",
      "bool, bool8, bool_, broadcast, busdaycalendar, \n",
      "byte, bytes0, bytes_, c_, cast, \n",
      "cdouble, cfloat, char, character, chararray, \n",
      "clongdouble, clongfloat, compat, complex, complex128, \n",
      "complex64, complex_, complexfloating, core, csingle, \n",
      "ctypeslib, datetime64, division, double, dtype, \n",
      "e, emath, errstate, euler_gamma, fft, \n",
      "finfo, flatiter, flexible, float, float16, \n",
      "float32, float64, float_, floating, format_parser, \n",
      "generic, half, iinfo, index_exp, inexact, \n",
      "inf, infty, int, int0, int16, \n",
      "int32, int64, int8, int_, intc, \n",
      "integer, intp, lib, linalg, little_endian, \n",
      "long, longcomplex, longdouble, longfloat, longlong, \n",
      "ma, math, matrix, matrixlib, memmap, \n",
      "mgrid, nan, nbytes, ndarray, ndenumerate, \n",
      "ndindex, nditer, newaxis, numarray, number, \n",
      "object, object0, object_, ogrid, oldnumeric, \n",
      "pi, poly1d, polynomial, print_function, r_, \n",
      "random, rec, recarray, record, s_, \n",
      "sctypeDict, sctypeNA, sctypes, short, signedinteger, \n",
      "single, singlecomplex, str, str0, str_, \n",
      "string_, sys, test, testing, timedelta64, \n",
      "tracemalloc_domain, typeDict, typeNA, typecodes, ubyte, \n",
      "ufunc, uint, uint0, uint16, uint32, \n",
      "uint64, uint8, uintc, uintp, ulonglong, \n",
      "unicode, unicode_, unsignedinteger, ushort, vectorize, \n",
      "version, void, void0, warnings, "
     ]
    }
   ],
   "source": [
    "count = 0 \n",
    "for i in dir(np) :\n",
    "    if not i.startswith(\"_\") :\n",
    "        \n",
    "        if ( type(np.__dict__[i]) == types.FunctionType or\n",
    "           type(np.__dict__[i]) ==  np.ufunc  or \n",
    "           type(np.__dict__[i]) == type(np.dot) ) :\n",
    "            continue\n",
    "            \n",
    "        count += 1\n",
    "        if count % 5 == 0 :\n",
    "            print()\n",
    "        \n",
    "        print(i,end=\", \")"
   ]
  },
  {
   "cell_type": "code",
   "execution_count": 17,
   "metadata": {},
   "outputs": [
    {
     "data": {
      "text/plain": [
       "<function numpy.core.fromnumeric.var(a, axis=None, dtype=None, out=None, ddof=0, keepdims=<no value>)>"
      ]
     },
     "execution_count": 17,
     "metadata": {},
     "output_type": "execute_result"
    }
   ],
   "source": [
    "np.var"
   ]
  },
  {
   "cell_type": "code",
   "execution_count": 19,
   "metadata": {},
   "outputs": [
    {
     "data": {
      "text/plain": [
       "True"
      ]
     },
     "execution_count": 19,
     "metadata": {},
     "output_type": "execute_result"
    }
   ],
   "source": [
    "type(np.var) == types.FunctionType"
   ]
  },
  {
   "cell_type": "code",
   "execution_count": 22,
   "metadata": {},
   "outputs": [
    {
     "data": {
      "text/plain": [
       "<function numpy.core.multiarray.dot>"
      ]
     },
     "execution_count": 22,
     "metadata": {},
     "output_type": "execute_result"
    }
   ],
   "source": [
    "np.dot"
   ]
  },
  {
   "cell_type": "code",
   "execution_count": 23,
   "metadata": {},
   "outputs": [
    {
     "data": {
      "text/plain": [
       "False"
      ]
     },
     "execution_count": 23,
     "metadata": {},
     "output_type": "execute_result"
    }
   ],
   "source": [
    "type(np.dot) == types.FunctionType"
   ]
  },
  {
   "cell_type": "code",
   "execution_count": 24,
   "metadata": {},
   "outputs": [
    {
     "data": {
      "text/plain": [
       "builtin_function_or_method"
      ]
     },
     "execution_count": 24,
     "metadata": {},
     "output_type": "execute_result"
    }
   ],
   "source": [
    "type(np.dot)"
   ]
  },
  {
   "cell_type": "code",
   "execution_count": null,
   "metadata": {},
   "outputs": [],
   "source": []
  }
 ],
 "metadata": {
  "kernelspec": {
   "display_name": "Python 3",
   "language": "python",
   "name": "python3"
  },
  "language_info": {
   "codemirror_mode": {
    "name": "ipython",
    "version": 3
   },
   "file_extension": ".py",
   "mimetype": "text/x-python",
   "name": "python",
   "nbconvert_exporter": "python",
   "pygments_lexer": "ipython3",
   "version": "3.6.7"
  }
 },
 "nbformat": 4,
 "nbformat_minor": 2
}
