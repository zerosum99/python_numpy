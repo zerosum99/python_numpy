{
 "cells": [
  {
   "cell_type": "code",
   "execution_count": 1,
   "metadata": {},
   "outputs": [],
   "source": [
    "import numpy as np"
   ]
  },
  {
   "cell_type": "code",
   "execution_count": 11,
   "metadata": {},
   "outputs": [],
   "source": [
    "l = [ \"absolute_import\", \"add_newdocs\", \n",
    "\"bool\", \"bool8\", \"bool_\", \"broadcast\", \"busdaycalendar\", \n",
    "\"byte\", \"bytes0\", \"bytes_\", \"c_\", \"cast\", \n",
    "\"cdouble\", \"cfloat\", \"char\", \"character\", \"chararray\", \n",
    "\"clongdouble\", \"clongfloat\", \"compat\", \"complex\", \"complex128\", \n",
    "\"complex64\", \"complex_\", \"complexfloating\", \"core\",\"csingle\", \n",
    "\"ctypeslib\", \"datetime64\",\"division\", \"double\", \"dtype\", \n",
    "\"e\", \"emath\", \"errstate\", \"euler_gamma\", \"fft\", \n",
    "\"finfo\", \"flatiter\", \"flexible\", \"float\", \"float16\", \n",
    "\"float32\", \"float64\", \"float_\", \"floating\", \"format_parser\", \n",
    "\"generic\", \"half\", \"iinfo\", \"index_exp\", \"inexact\", \n",
    "\"inf\", \"infty\", \"int\", \"int0\", \"int16\", \n",
    "\"int32\", \"int64\", \"int8\", \"int_\", \"intc\", \n",
    "\"integer\", \"intp\",\"lib\", \"linalg\", \"little_endian\", \n",
    "\"long\", \"longcomplex\", \"longdouble\", \"longfloat\", \"longlong\", \n",
    "\"ma\", \"math\", \"matrix\", \"matrixlib\", \"memmap\", \n",
    "\"mgrid\", \"nan\", \"nbytes\", \"ndarray\", \"ndenumerate\", \n",
    "\"ndindex\", \"nditer\", \"newaxis\", \"numarray\", \"number\", \n",
    "\"object\", \"object0\", \"object_\", \"ogrid\", \"oldnumeric\", \n",
    "\"pi\", \"poly1d\", \"polynomial\", \"print_function\", \"r_\", \n",
    "\"random\", \"rec\", \"recarray\", \"record\", \"s_\", \n",
    "\"sctypeDict\", \"sctypeNA\", \"sctypes\", \"short\", \"signedinteger\", \n",
    "\"single\", \"singlecomplex\", \"str\", \"str0\", \"str_\", \n",
    "\"string_\",\"sys\", \"test\", \"testing\", \"timedelta64\", \n",
    "\"tracemalloc_domain\", \"typeDict\", \"typeNA\", \"typecodes\", \"ubyte\", \n",
    "\"ufunc\", \"uint\", \"uint0\", \"uint16\", \"uint32\", \n",
    "\"uint64\", \"uint8\", \"uintc\", \"uintp\", \"ulonglong\", \n",
    "\"unicode\", \"unicode_\", \"unsignedinteger\", \"ushort\", \"vectorize\", \n",
    "\"version\", \"void\", \"void0\", \"warnings\" ]"
   ]
  },
  {
   "cell_type": "code",
   "execution_count": 13,
   "metadata": {},
   "outputs": [],
   "source": [
    "import types"
   ]
  },
  {
   "cell_type": "code",
   "execution_count": null,
   "metadata": {},
   "outputs": [],
   "source": []
  },
  {
   "cell_type": "markdown",
   "metadata": {},
   "source": [
    "## 모듈 "
   ]
  },
  {
   "cell_type": "code",
   "execution_count": 15,
   "metadata": {},
   "outputs": [
    {
     "name": "stdout",
     "output_type": "stream",
     "text": [
      "add_newdocs : <class 'module'>\n",
      "char : <class 'module'>\n",
      "compat : <class 'module'>\n",
      "core : <class 'module'>\n",
      "ctypeslib : <class 'module'>\n",
      "emath : <class 'module'>\n",
      "fft : <class 'module'>\n",
      "lib : <class 'module'>\n",
      "linalg : <class 'module'>\n",
      "ma : <class 'module'>\n",
      "math : <class 'module'>\n",
      "matrixlib : <class 'module'>\n",
      "polynomial : <class 'module'>\n",
      "random : <class 'module'>\n",
      "rec : <class 'module'>\n",
      "sys : <class 'module'>\n",
      "testing : <class 'module'>\n",
      "version : <class 'module'>\n",
      "warnings : <class 'module'>\n"
     ]
    }
   ],
   "source": [
    "for i in l :\n",
    "    if type(np.__dict__[i]) == types. ModuleType : \n",
    "        print(i + \" : \" + str(type(np.__dict__[i])))"
   ]
  },
  {
   "cell_type": "markdown",
   "metadata": {},
   "source": [
    "## 클래스 "
   ]
  },
  {
   "cell_type": "code",
   "execution_count": 16,
   "metadata": {},
   "outputs": [
    {
     "name": "stdout",
     "output_type": "stream",
     "text": [
      "bool : <class 'type'>\n",
      "bool8 : <class 'type'>\n",
      "bool_ : <class 'type'>\n",
      "broadcast : <class 'type'>\n",
      "busdaycalendar : <class 'type'>\n",
      "byte : <class 'type'>\n",
      "bytes0 : <class 'type'>\n",
      "bytes_ : <class 'type'>\n",
      "cdouble : <class 'type'>\n",
      "cfloat : <class 'type'>\n",
      "character : <class 'type'>\n",
      "chararray : <class 'type'>\n",
      "clongdouble : <class 'type'>\n",
      "clongfloat : <class 'type'>\n",
      "complex : <class 'type'>\n",
      "complex128 : <class 'type'>\n",
      "complex64 : <class 'type'>\n",
      "complex_ : <class 'type'>\n",
      "complexfloating : <class 'type'>\n",
      "csingle : <class 'type'>\n",
      "datetime64 : <class 'type'>\n",
      "double : <class 'type'>\n",
      "dtype : <class 'type'>\n",
      "errstate : <class 'type'>\n",
      "finfo : <class 'type'>\n",
      "flatiter : <class 'type'>\n",
      "flexible : <class 'type'>\n",
      "float : <class 'type'>\n",
      "float16 : <class 'type'>\n",
      "float32 : <class 'type'>\n",
      "float64 : <class 'type'>\n",
      "float_ : <class 'type'>\n",
      "floating : <class 'type'>\n",
      "format_parser : <class 'type'>\n",
      "generic : <class 'type'>\n",
      "half : <class 'type'>\n",
      "iinfo : <class 'type'>\n",
      "inexact : <class 'type'>\n",
      "int : <class 'type'>\n",
      "int0 : <class 'type'>\n",
      "int16 : <class 'type'>\n",
      "int32 : <class 'type'>\n",
      "int64 : <class 'type'>\n",
      "int8 : <class 'type'>\n",
      "int_ : <class 'type'>\n",
      "intc : <class 'type'>\n",
      "integer : <class 'type'>\n",
      "intp : <class 'type'>\n",
      "long : <class 'type'>\n",
      "longcomplex : <class 'type'>\n",
      "longdouble : <class 'type'>\n",
      "longfloat : <class 'type'>\n",
      "longlong : <class 'type'>\n",
      "matrix : <class 'type'>\n",
      "memmap : <class 'type'>\n",
      "ndarray : <class 'type'>\n",
      "ndenumerate : <class 'type'>\n",
      "ndindex : <class 'type'>\n",
      "nditer : <class 'type'>\n",
      "number : <class 'type'>\n",
      "object : <class 'type'>\n",
      "object0 : <class 'type'>\n",
      "object_ : <class 'type'>\n",
      "poly1d : <class 'type'>\n",
      "recarray : <class 'type'>\n",
      "record : <class 'type'>\n",
      "short : <class 'type'>\n",
      "signedinteger : <class 'type'>\n",
      "single : <class 'type'>\n",
      "singlecomplex : <class 'type'>\n",
      "str : <class 'type'>\n",
      "str0 : <class 'type'>\n",
      "str_ : <class 'type'>\n",
      "string_ : <class 'type'>\n",
      "timedelta64 : <class 'type'>\n",
      "ubyte : <class 'type'>\n",
      "ufunc : <class 'type'>\n",
      "uint : <class 'type'>\n",
      "uint0 : <class 'type'>\n",
      "uint16 : <class 'type'>\n",
      "uint32 : <class 'type'>\n",
      "uint64 : <class 'type'>\n",
      "uint8 : <class 'type'>\n",
      "uintc : <class 'type'>\n",
      "uintp : <class 'type'>\n",
      "ulonglong : <class 'type'>\n",
      "unicode : <class 'type'>\n",
      "unicode_ : <class 'type'>\n",
      "unsignedinteger : <class 'type'>\n",
      "ushort : <class 'type'>\n",
      "vectorize : <class 'type'>\n",
      "void : <class 'type'>\n",
      "void0 : <class 'type'>\n"
     ]
    }
   ],
   "source": [
    "for i in l :\n",
    "    if type(np.__dict__[i]) == type : \n",
    "        print(i + \" : \" + str(type(np.__dict__[i])))"
   ]
  },
  {
   "cell_type": "markdown",
   "metadata": {},
   "source": [
    "## 속성값"
   ]
  },
  {
   "cell_type": "code",
   "execution_count": 17,
   "metadata": {},
   "outputs": [
    {
     "name": "stdout",
     "output_type": "stream",
     "text": [
      "absolute_import : <class '__future__._Feature'>\n",
      "c_ : <class 'numpy.lib.index_tricks.CClass'>\n",
      "cast : <class 'numpy.core.numerictypes._typedict'>\n",
      "division : <class '__future__._Feature'>\n",
      "e : <class 'float'>\n",
      "euler_gamma : <class 'float'>\n",
      "index_exp : <class 'numpy.lib.index_tricks.IndexExpression'>\n",
      "inf : <class 'float'>\n",
      "infty : <class 'float'>\n",
      "little_endian : <class 'bool'>\n",
      "mgrid : <class 'numpy.lib.index_tricks.nd_grid'>\n",
      "nan : <class 'float'>\n",
      "nbytes : <class 'numpy.core.numerictypes._typedict'>\n",
      "newaxis : <class 'NoneType'>\n",
      "numarray : <class 'str'>\n",
      "ogrid : <class 'numpy.lib.index_tricks.nd_grid'>\n",
      "oldnumeric : <class 'str'>\n",
      "pi : <class 'float'>\n",
      "print_function : <class '__future__._Feature'>\n",
      "r_ : <class 'numpy.lib.index_tricks.RClass'>\n",
      "s_ : <class 'numpy.lib.index_tricks.IndexExpression'>\n",
      "sctypeDict : <class 'dict'>\n",
      "sctypeNA : <class 'dict'>\n",
      "sctypes : <class 'dict'>\n",
      "test : <class 'numpy.testing._private.pytesttester.PytestTester'>\n",
      "tracemalloc_domain : <class 'int'>\n",
      "typeDict : <class 'dict'>\n",
      "typeNA : <class 'dict'>\n",
      "typecodes : <class 'dict'>\n"
     ]
    }
   ],
   "source": [
    "for i in l :\n",
    "    if (type(np.__dict__[i]) == type or\n",
    "        type(np.__dict__[i]) == types. ModuleType) : \n",
    "        continue\n",
    "        \n",
    "    print(i + \" : \" + str(type(np.__dict__[i])))"
   ]
  },
  {
   "cell_type": "code",
   "execution_count": 14,
   "metadata": {},
   "outputs": [
    {
     "data": {
      "text/plain": [
       "['AsyncGeneratorType',\n",
       " 'BuiltinFunctionType',\n",
       " 'BuiltinMethodType',\n",
       " 'CodeType',\n",
       " 'CoroutineType',\n",
       " 'DynamicClassAttribute',\n",
       " 'FrameType',\n",
       " 'FunctionType',\n",
       " 'GeneratorType',\n",
       " 'GetSetDescriptorType',\n",
       " 'LambdaType',\n",
       " 'MappingProxyType',\n",
       " 'MemberDescriptorType',\n",
       " 'MethodType',\n",
       " 'ModuleType',\n",
       " 'SimpleNamespace',\n",
       " 'TracebackType',\n",
       " '_GeneratorWrapper',\n",
       " '__all__',\n",
       " '__builtins__',\n",
       " '__cached__',\n",
       " '__doc__',\n",
       " '__file__',\n",
       " '__loader__',\n",
       " '__name__',\n",
       " '__package__',\n",
       " '__spec__',\n",
       " '_ag',\n",
       " '_calculate_meta',\n",
       " '_collections_abc',\n",
       " '_functools',\n",
       " 'coroutine',\n",
       " 'new_class',\n",
       " 'prepare_class']"
      ]
     },
     "execution_count": 14,
     "metadata": {},
     "output_type": "execute_result"
    }
   ],
   "source": [
    "dir(types)"
   ]
  },
  {
   "cell_type": "code",
   "execution_count": null,
   "metadata": {},
   "outputs": [],
   "source": [
    "absolute_import, add_newdocs, \n",
    "bool, bool8, bool_, broadcast, busdaycalendar, \n",
    "byte, bytes0, bytes_, c_, cast, \n",
    "cdouble, cfloat, char, character, chararray, \n",
    "clongdouble, clongfloat, compat, complex, complex128, \n",
    "complex64, complex_, complexfloating, core, csingle, \n",
    "ctypeslib, datetime64, division, double, dtype, \n",
    "e, emath, errstate, euler_gamma, fft, \n",
    "finfo, flatiter, flexible, float, float16, \n",
    "float32, float64, float_, floating, format_parser, \n",
    "generic, half, iinfo, index_exp, inexact, \n",
    "inf, infty, int, int0, int16, \n",
    "int32, int64, int8, int_, intc, \n",
    "integer, intp, lib, linalg, little_endian, \n",
    "long, longcomplex, longdouble, longfloat, longlong, \n",
    "ma, math, matrix, matrixlib, memmap, \n",
    "mgrid, nan, nbytes, ndarray, ndenumerate, \n",
    "ndindex, nditer, newaxis, numarray, number, \n",
    "object, object0, object_, ogrid, oldnumeric, \n",
    "pi, poly1d, polynomial, print_function, r_, \n",
    "random, rec, recarray, record, s_, \n",
    "sctypeDict, sctypeNA, sctypes, short, signedinteger, \n",
    "single, singlecomplex, str, str0, str_, \n",
    "string_, sys, test, testing, timedelta64, \n",
    "tracemalloc_domain, typeDict, typeNA, typecodes, ubyte, \n",
    "ufunc, uint, uint0, uint16, uint32, \n",
    "uint64, uint8, uintc, uintp, ulonglong, \n",
    "unicode, unicode_, unsignedinteger, ushort, vectorize, \n",
    "version, void, void0, warnings, "
   ]
  },
  {
   "cell_type": "code",
   "execution_count": null,
   "metadata": {},
   "outputs": [],
   "source": []
  }
 ],
 "metadata": {
  "kernelspec": {
   "display_name": "Python 3",
   "language": "python",
   "name": "python3"
  },
  "language_info": {
   "codemirror_mode": {
    "name": "ipython",
    "version": 3
   },
   "file_extension": ".py",
   "mimetype": "text/x-python",
   "name": "python",
   "nbconvert_exporter": "python",
   "pygments_lexer": "ipython3",
   "version": "3.6.7"
  }
 },
 "nbformat": 4,
 "nbformat_minor": 2
}
