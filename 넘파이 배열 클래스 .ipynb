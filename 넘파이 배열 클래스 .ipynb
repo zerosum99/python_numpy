{
 "cells": [
  {
   "cell_type": "code",
   "execution_count": 2,
   "metadata": {},
   "outputs": [],
   "source": [
    "import numpy as np"
   ]
  },
  {
   "cell_type": "code",
   "execution_count": 3,
   "metadata": {},
   "outputs": [
    {
     "data": {
      "text/plain": [
       "numpy.ndarray"
      ]
     },
     "execution_count": 3,
     "metadata": {},
     "output_type": "execute_result"
    }
   ],
   "source": [
    "np.ndarray"
   ]
  },
  {
   "cell_type": "code",
   "execution_count": 6,
   "metadata": {},
   "outputs": [
    {
     "data": {
      "text/plain": [
       "numpy.matrixlib.defmatrix.matrix"
      ]
     },
     "execution_count": 6,
     "metadata": {},
     "output_type": "execute_result"
    }
   ],
   "source": [
    "np.matrix"
   ]
  },
  {
   "cell_type": "code",
   "execution_count": 7,
   "metadata": {},
   "outputs": [
    {
     "data": {
      "text/plain": [
       "numpy.core.defchararray.chararray"
      ]
     },
     "execution_count": 7,
     "metadata": {},
     "output_type": "execute_result"
    }
   ],
   "source": [
    "np.chararray"
   ]
  },
  {
   "cell_type": "code",
   "execution_count": 8,
   "metadata": {},
   "outputs": [
    {
     "data": {
      "text/plain": [
       "numpy.recarray"
      ]
     },
     "execution_count": 8,
     "metadata": {},
     "output_type": "execute_result"
    }
   ],
   "source": [
    "np.recarray"
   ]
  },
  {
   "cell_type": "code",
   "execution_count": 10,
   "metadata": {},
   "outputs": [
    {
     "data": {
      "text/plain": [
       "numpy.record"
      ]
     },
     "execution_count": 10,
     "metadata": {},
     "output_type": "execute_result"
    }
   ],
   "source": [
    "np.record"
   ]
  },
  {
   "cell_type": "code",
   "execution_count": 9,
   "metadata": {},
   "outputs": [
    {
     "data": {
      "text/plain": [
       "<module 'numpy.core.records' from 'C:\\\\Users\\\\John\\\\Anaconda3\\\\lib\\\\site-packages\\\\numpy\\\\core\\\\records.py'>"
      ]
     },
     "execution_count": 9,
     "metadata": {},
     "output_type": "execute_result"
    }
   ],
   "source": [
    "np.rec"
   ]
  },
  {
   "cell_type": "markdown",
   "metadata": {},
   "source": [
    "## 벡터화 연산 "
   ]
  },
  {
   "cell_type": "code",
   "execution_count": 12,
   "metadata": {},
   "outputs": [
    {
     "data": {
      "text/plain": [
       "numpy.ufunc"
      ]
     },
     "execution_count": 12,
     "metadata": {},
     "output_type": "execute_result"
    }
   ],
   "source": [
    "np.ufunc"
   ]
  },
  {
   "cell_type": "code",
   "execution_count": 13,
   "metadata": {},
   "outputs": [
    {
     "data": {
      "text/plain": [
       "numpy.broadcast"
      ]
     },
     "execution_count": 13,
     "metadata": {},
     "output_type": "execute_result"
    }
   ],
   "source": [
    "np.broadcast"
   ]
  },
  {
   "cell_type": "code",
   "execution_count": 14,
   "metadata": {},
   "outputs": [
    {
     "data": {
      "text/plain": [
       "numpy.lib.function_base.vectorize"
      ]
     },
     "execution_count": 14,
     "metadata": {},
     "output_type": "execute_result"
    }
   ],
   "source": [
    " np.vectorize"
   ]
  },
  {
   "cell_type": "code",
   "execution_count": 17,
   "metadata": {},
   "outputs": [
    {
     "data": {
      "text/plain": [
       "{numpy.bool_: <function numpy.core.numerictypes.<lambda>(x, k=<class 'numpy.bool_'>)>,\n",
       " numpy.int8: <function numpy.core.numerictypes.<lambda>(x, k=<class 'numpy.int8'>)>,\n",
       " numpy.uint8: <function numpy.core.numerictypes.<lambda>(x, k=<class 'numpy.uint8'>)>,\n",
       " numpy.int16: <function numpy.core.numerictypes.<lambda>(x, k=<class 'numpy.int16'>)>,\n",
       " numpy.uint16: <function numpy.core.numerictypes.<lambda>(x, k=<class 'numpy.uint16'>)>,\n",
       " numpy.int32: <function numpy.core.numerictypes.<lambda>(x, k=<class 'numpy.int32'>)>,\n",
       " numpy.uint32: <function numpy.core.numerictypes.<lambda>(x, k=<class 'numpy.uint32'>)>,\n",
       " numpy.int32: <function numpy.core.numerictypes.<lambda>(x, k=<class 'numpy.int32'>)>,\n",
       " numpy.uint32: <function numpy.core.numerictypes.<lambda>(x, k=<class 'numpy.uint32'>)>,\n",
       " numpy.int64: <function numpy.core.numerictypes.<lambda>(x, k=<class 'numpy.int64'>)>,\n",
       " numpy.uint64: <function numpy.core.numerictypes.<lambda>(x, k=<class 'numpy.uint64'>)>,\n",
       " numpy.float16: <function numpy.core.numerictypes.<lambda>(x, k=<class 'numpy.float16'>)>,\n",
       " numpy.float32: <function numpy.core.numerictypes.<lambda>(x, k=<class 'numpy.float32'>)>,\n",
       " numpy.float64: <function numpy.core.numerictypes.<lambda>(x, k=<class 'numpy.float64'>)>,\n",
       " numpy.float64: <function numpy.core.numerictypes.<lambda>(x, k=<class 'numpy.float64'>)>,\n",
       " numpy.complex64: <function numpy.core.numerictypes.<lambda>(x, k=<class 'numpy.complex64'>)>,\n",
       " numpy.complex128: <function numpy.core.numerictypes.<lambda>(x, k=<class 'numpy.complex128'>)>,\n",
       " numpy.complex128: <function numpy.core.numerictypes.<lambda>(x, k=<class 'numpy.complex128'>)>,\n",
       " numpy.object_: <function numpy.core.numerictypes.<lambda>(x, k=<class 'numpy.object_'>)>,\n",
       " numpy.bytes_: <function numpy.core.numerictypes.<lambda>(x, k=<class 'numpy.bytes_'>)>,\n",
       " numpy.str_: <function numpy.core.numerictypes.<lambda>(x, k=<class 'numpy.str_'>)>,\n",
       " numpy.void: <function numpy.core.numerictypes.<lambda>(x, k=<class 'numpy.void'>)>,\n",
       " numpy.datetime64: <function numpy.core.numerictypes.<lambda>(x, k=<class 'numpy.datetime64'>)>,\n",
       " numpy.timedelta64: <function numpy.core.numerictypes.<lambda>(x, k=<class 'numpy.timedelta64'>)>}"
      ]
     },
     "execution_count": 17,
     "metadata": {},
     "output_type": "execute_result"
    }
   ],
   "source": [
    "np.cast"
   ]
  },
  {
   "cell_type": "markdown",
   "metadata": {},
   "source": [
    "## 없음을 표시"
   ]
  },
  {
   "cell_type": "code",
   "execution_count": 15,
   "metadata": {},
   "outputs": [
    {
     "data": {
      "text/plain": [
       "numpy.void"
      ]
     },
     "execution_count": 15,
     "metadata": {},
     "output_type": "execute_result"
    }
   ],
   "source": [
    "np.void"
   ]
  },
  {
   "cell_type": "code",
   "execution_count": 16,
   "metadata": {},
   "outputs": [
    {
     "data": {
      "text/plain": [
       "numpy.void"
      ]
     },
     "execution_count": 16,
     "metadata": {},
     "output_type": "execute_result"
    }
   ],
   "source": [
    "np.void0"
   ]
  },
  {
   "cell_type": "code",
   "execution_count": null,
   "metadata": {},
   "outputs": [],
   "source": [
    "absolute_import, add_newdocs, \n",
    " broadcast, busdaycalendar, \n",
    " c_, cast,  \n",
    " compat,, core, ctypeslib, division,  dtype, \n",
    "e, emath, errstate, euler_gamma, fft, \n",
    "flatiter, flexible,  format_parser, \n",
    " half,index_exp,\n",
    "infty, , lib, linalg, \n",
    "ma, math,  matrixlib, memmap, \n",
    "mgrid,nbytes, ndenumerate, \n",
    "ndindex, nditer, newaxis, numarray,\n",
    "ogrid, oldnumeric, \n",
    "pi, poly1d, polynomial, print_function, r_, \n",
    "random,  s_, \n",
    "sctypeDict, sctypeNA, sctypes , \n",
    "sys, test, testing,\n",
    "tracemalloc_domain, typeDict, typeNA, typecodes, ubyte, \n",
    "version, warnings, "
   ]
  }
 ],
 "metadata": {
  "kernelspec": {
   "display_name": "Python 3",
   "language": "python",
   "name": "python3"
  },
  "language_info": {
   "codemirror_mode": {
    "name": "ipython",
    "version": 3
   },
   "file_extension": ".py",
   "mimetype": "text/x-python",
   "name": "python",
   "nbconvert_exporter": "python",
   "pygments_lexer": "ipython3",
   "version": "3.6.7"
  }
 },
 "nbformat": 4,
 "nbformat_minor": 2
}
