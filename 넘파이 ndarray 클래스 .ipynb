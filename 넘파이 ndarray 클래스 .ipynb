{
 "cells": [
  {
   "cell_type": "code",
   "execution_count": 1,
   "metadata": {},
   "outputs": [],
   "source": [
    "import numpy as np"
   ]
  },
  {
   "cell_type": "code",
   "execution_count": 3,
   "metadata": {},
   "outputs": [
    {
     "data": {
      "text/plain": [
       "'1.15.4'"
      ]
     },
     "execution_count": 3,
     "metadata": {},
     "output_type": "execute_result"
    }
   ],
   "source": [
    "np.__version__"
   ]
  },
  {
   "cell_type": "code",
   "execution_count": 4,
   "metadata": {},
   "outputs": [],
   "source": [
    "a = np.array([1,2,3,4])"
   ]
  },
  {
   "cell_type": "code",
   "execution_count": 5,
   "metadata": {},
   "outputs": [
    {
     "data": {
      "text/plain": [
       "array([1, 2, 3, 4])"
      ]
     },
     "execution_count": 5,
     "metadata": {},
     "output_type": "execute_result"
    }
   ],
   "source": [
    "a"
   ]
  },
  {
   "cell_type": "code",
   "execution_count": 17,
   "metadata": {},
   "outputs": [
    {
     "data": {
      "text/plain": [
       "method_descriptor"
      ]
     },
     "execution_count": 17,
     "metadata": {},
     "output_type": "execute_result"
    }
   ],
   "source": [
    "type(np.ndarray.__dict__['var'])"
   ]
  },
  {
   "cell_type": "code",
   "execution_count": 21,
   "metadata": {},
   "outputs": [
    {
     "name": "stdout",
     "output_type": "stream",
     "text": [
      "all, any, argmax, argmin, \n",
      "argpartition, argsort, astype, byteswap, choose, \n",
      "clip, compress, conj, conjugate, copy, \n",
      "cumprod, cumsum, diagonal, dot, dump, \n",
      "dumps, fill, flatten, getfield, item, \n",
      "itemset, max, mean, min, newbyteorder, \n",
      "nonzero, partition, prod, ptp, put, \n",
      "ravel, repeat, reshape, resize, round, \n",
      "searchsorted, setfield, setflags, sort, squeeze, \n",
      "std, sum, swapaxes, take, tobytes, \n",
      "tofile, tolist, tostring, trace, transpose, \n",
      "var, view, "
     ]
    }
   ],
   "source": [
    "count = 0 \n",
    "for i in dir(a) :\n",
    "    \n",
    "    if not i.startswith(\"_\")  :\n",
    "        \n",
    "        if type(np.ndarray.__dict__[i]) == type(np.ndarray.__dict__['var']) : \n",
    "            \n",
    "            count += 1\n",
    "            if count % 5 == 0 :\n",
    "                print()\n",
    "            print(i,end=', ') "
   ]
  },
  {
   "cell_type": "code",
   "execution_count": null,
   "metadata": {},
   "outputs": [],
   "source": [
    "##"
   ]
  },
  {
   "cell_type": "code",
   "execution_count": 23,
   "metadata": {},
   "outputs": [
    {
     "name": "stdout",
     "output_type": "stream",
     "text": [
      "T, base, ctypes, data, \n",
      "dtype, flags, flat, imag, itemsize, \n",
      "nbytes, ndim, real, shape, size, \n",
      "strides, "
     ]
    }
   ],
   "source": [
    "count = 0 \n",
    "for i in dir(a) :\n",
    "    \n",
    "    if not i.startswith(\"_\")  :\n",
    "        \n",
    "        if type(np.ndarray.__dict__[i]) != type(np.ndarray.__dict__['var']) : \n",
    "            count += 1\n",
    "            if count % 5 == 0 :\n",
    "                print()\n",
    "            print(i,end=', ') "
   ]
  },
  {
   "cell_type": "code",
   "execution_count": null,
   "metadata": {},
   "outputs": [],
   "source": []
  }
 ],
 "metadata": {
  "kernelspec": {
   "display_name": "Python 3",
   "language": "python",
   "name": "python3"
  },
  "language_info": {
   "codemirror_mode": {
    "name": "ipython",
    "version": 3
   },
   "file_extension": ".py",
   "mimetype": "text/x-python",
   "name": "python",
   "nbconvert_exporter": "python",
   "pygments_lexer": "ipython3",
   "version": "3.6.7"
  }
 },
 "nbformat": 4,
 "nbformat_minor": 2
}
